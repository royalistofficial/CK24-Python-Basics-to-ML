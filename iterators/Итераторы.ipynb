{
 "cells": [
  {
   "cell_type": "markdown",
   "id": "4feb6bdc",
   "metadata": {},
   "source": [
    "# Итераторы"
   ]
  },
  {
   "cell_type": "markdown",
   "id": "4b6631bd",
   "metadata": {},
   "source": [
    "## Порядок сдачи домашнего"
   ]
  },
  {
   "cell_type": "markdown",
   "id": "bee4fcc0",
   "metadata": {},
   "source": [
    "\n",
    "Вам требуется создать гит репозиторий куда вы будете складывать все ваши домашние. Под каждое домашнее вы создаете отдельную ветку куда вносите все изменения в рамках домашнего. Как только домашнее готово - создаете пулл реквест (обратите внимание что в пулл реквесте должны быть отражены все изменения в рамках домашнего) или присылаете код в СДО. Ревьювером назначаете http://github.com/michael15346/ и https://github.com/shgpavel . Перед сдачей проверьте код, напишите тесты. Не забудьте про PEP8, например, с помощью flake8. Задание нужно делать в jupyter notebook.\n",
    "\n",
    "Дедлайн - 9 декабря 10:00"
   ]
  },
  {
   "cell_type": "markdown",
   "id": "d777f71d",
   "metadata": {
    "ExecuteTime": {
     "end_time": "2024-11-03T13:46:28.412754Z",
     "start_time": "2024-11-03T13:46:28.400723Z"
    }
   },
   "source": [
    "## Итератор по цифрам"
   ]
  },
  {
   "cell_type": "markdown",
   "id": "0e691ab8",
   "metadata": {},
   "source": [
    "Реализуйте класс-итератор `DigitIterator`, который принимает на вход целое число и позволяет итерироваться по его цифрам слева направо. На каждой итерации должна возвращаться следующая цифра числа.\n",
    "\n",
    "**Условия:**\n",
    "1.\tЧисло может быть как положительным, так и отрицательным.\n",
    "2.\tИтератор должен возвращать только цифры числа, без знака - для отрицательных чисел.\n",
    "3.\tИтерация должна быть возможна с помощью цикла for или функции next().\n",
    "\n",
    "**Пример использования:**\n",
    "\n",
    "```python\n",
    "iterator = DigitIterator(12345)\n",
    "for digit in iterator:\n",
    "    print(digit)\n",
    "# 1\n",
    "# 2\n",
    "# 3\n",
    "# 4\n",
    "# 5\n",
    "\n",
    "iterator = DigitIterator(-6789)\n",
    "for digit in iterator:\n",
    "    print(digit)\n",
    "\n",
    "# 6\n",
    "# 7\n",
    "# 8\n",
    "# 9\n",
    "```"
   ]
  },
  {
   "cell_type": "code",
   "execution_count": 38,
   "id": "8456ac6e",
   "metadata": {},
   "outputs": [
    {
     "name": "stdout",
     "output_type": "stream",
     "text": [
      "1\n",
      "2\n",
      "3\n",
      "4\n",
      "5\n"
     ]
    }
   ],
   "source": [
    "class DigitIterator:\n",
    "    def __init__(self, num):\n",
    "        self.num = str(abs(num))\n",
    "        self.index = 0\n",
    "    \n",
    "    def __iter__(self):\n",
    "        return self  \n",
    "\n",
    "    def __next__(self):\n",
    "        if self.index < len(self.num):\n",
    "            result = self.num[self.index]\n",
    "            self.index += 1\n",
    "            return result\n",
    "        else:\n",
    "            raise StopIteration \n",
    "\n",
    "# Пример использования\n",
    "iterator = DigitIterator(12345)\n",
    "for digit in iterator:\n",
    "    print(digit)"
   ]
  },
  {
   "cell_type": "markdown",
   "id": "524f2c81",
   "metadata": {},
   "source": [
    "# Итератор по файлу чанками"
   ]
  },
  {
   "cell_type": "markdown",
   "id": "b8beef88",
   "metadata": {},
   "source": [
    "Реализуйте класс-итератор `FileChunkIterator`, который принимает на вход путь к файлу и количество байт для чтения. Итератор должен открывать файл и считывать его содержимое блоками фиксированного размера (количества байт), переданного в качестве параметра. При каждой итерации возвращается следующий блок байт, пока не будет достигнут конец файла.\n",
    "\n",
    "**Условия:**\n",
    "1.\tИтератор должен открывать файл в режиме чтения бинарных данных (rb).\n",
    "2.\tРазмер блока (количество байт) передаётся при создании итератора.\n",
    "3.\tЕсли в конце файла остаётся блок меньшего размера, итератор должен вернуть оставшиеся байты.\n",
    "4.\tПри достижении конца файла итератор должен завершить работу, поднимая StopIteration.\n",
    "\n",
    "**Пример использования:**\n",
    "```python\n",
    "with open(\"example.txt\", \"w\") as file:\n",
    "    file.write(\"Hello world!!\")\n",
    "    \n",
    "iterator = FileChunkIterator(\"example.txt\", 2)\n",
    "for chunk in iterator:\n",
    "    print(chunk)\n",
    "# He\n",
    "# ll\n",
    "# o \n",
    "# wo\n",
    "# rl\n",
    "# d!\n",
    "# !\n",
    "```"
   ]
  },
  {
   "cell_type": "code",
   "execution_count": 39,
   "id": "60907399",
   "metadata": {},
   "outputs": [],
   "source": [
    "class FileChunkIterator:\n",
    "    def __init__(self, filename, chunk_size):\n",
    "        self.file = open(filename, 'r') \n",
    "        self.chunk_size = chunk_size\n",
    "        self.position = 0\n",
    "\n",
    "    def __iter__(self):\n",
    "        return self  \n",
    "    \n",
    "    def __next__(self):\n",
    "        chunk = self.file.read(self.chunk_size) \n",
    "        if chunk:\n",
    "            return chunk\n",
    "        else:\n",
    "            self.file.close()  \n",
    "            raise StopIteration"
   ]
  },
  {
   "cell_type": "code",
   "execution_count": 40,
   "id": "536a3dbc",
   "metadata": {
    "ExecuteTime": {
     "end_time": "2024-11-03T15:39:29.153309Z",
     "start_time": "2024-11-03T15:39:29.131086Z"
    }
   },
   "outputs": [
    {
     "name": "stdout",
     "output_type": "stream",
     "text": [
      "He\n",
      "ll\n",
      "o \n",
      "wo\n",
      "rl\n",
      "d!\n",
      "!\n"
     ]
    }
   ],
   "source": [
    "with open(\"example.txt\", \"w\") as file:\n",
    "    file.write(\"Hello world!!\")\n",
    "\n",
    "iterator = FileChunkIterator(\"example.txt\", 2)\n",
    "for chunk in iterator:\n",
    "    print(chunk)"
   ]
  },
  {
   "cell_type": "markdown",
   "id": "0985c955",
   "metadata": {},
   "source": [
    "# Итератор по подматрицам"
   ]
  },
  {
   "cell_type": "markdown",
   "id": "6dacea80",
   "metadata": {},
   "source": [
    "Реализуйте класс-итератор `SubmatrixIterator`, который принимает на вход матрицу и размер подматрицы (квадратного блока). Итератор должен проходить по всем возможным подматрицам указанного размера и возвращать их одну за другой.\n",
    "\n",
    "**Пример использования:**\n",
    "\n",
    "```python\n",
    "matrix = [\n",
    "    [1, 2, 3, 4],\n",
    "    [5, 6, 7, 8],\n",
    "    [9, 10, 11, 12],\n",
    "    [13, 14, 15, 16]\n",
    "]\n",
    "iterator = SubmatrixIterator(matrix, 2)\n",
    "for submatrix in iterator:\n",
    "    print(submatrix)\n",
    "    \n",
    "# [[1, 2], [5, 6]]\n",
    "# [[2, 3], [6, 7]]\n",
    "# [[3, 4], [7, 8]]\n",
    "# [[5, 6], [9, 10]]\n",
    "# [[6, 7], [10, 11]]\n",
    "# [[7, 8], [11, 12]]\n",
    "# [[9, 10], [13, 14]]\n",
    "# [[10, 11], [14, 15]]\n",
    "# [[11, 12], [15, 16]]\n",
    "```"
   ]
  },
  {
   "cell_type": "code",
   "execution_count": 41,
   "id": "72631b5b",
   "metadata": {},
   "outputs": [],
   "source": [
    "class SubmatrixIterator:\n",
    "    def __init__(self, matrix, size):\n",
    "        self.matrix = matrix\n",
    "        self.size = size\n",
    "        self.rows = len(matrix)\n",
    "        self.cols = len(matrix[0]) if matrix else 0\n",
    "        self.current_row = 0\n",
    "        self.current_col = 0\n",
    "\n",
    "    def __iter__(self):\n",
    "        return self\n",
    "\n",
    "    def __next__(self):\n",
    "        if self.current_row + self.size > self.rows or self.current_col + self.size > self.cols:\n",
    "            raise StopIteration\n",
    "        \n",
    "        submatrix = self.extract_square(self.current_row, self.current_col)\n",
    "        \n",
    "        if self.current_col < self.cols - self.size:\n",
    "            self.current_col += 1\n",
    "        else:\n",
    "            self.current_col = 0\n",
    "            self.current_row += 1\n",
    "        \n",
    "        return submatrix\n",
    "\n",
    "    def extract_square(self, start_row, start_col):\n",
    "        return [row[start_col:start_col + self.size] for row in self.matrix[start_row:start_row + self.size]]\n"
   ]
  },
  {
   "cell_type": "code",
   "execution_count": 42,
   "id": "3f3348cb",
   "metadata": {},
   "outputs": [
    {
     "name": "stdout",
     "output_type": "stream",
     "text": [
      "[[1, 2], [5, 6]]\n",
      "[[2, 3], [6, 7]]\n",
      "[[3, 4], [7, 8]]\n",
      "[[5, 6], [9, 10]]\n",
      "[[6, 7], [10, 11]]\n",
      "[[7, 8], [11, 12]]\n",
      "[[9, 10], [13, 14]]\n",
      "[[10, 11], [14, 15]]\n",
      "[[11, 12], [15, 16]]\n"
     ]
    }
   ],
   "source": [
    "matrix = [\n",
    "    [1, 2, 3, 4],\n",
    "    [5, 6, 7, 8],\n",
    "    [9, 10, 11, 12],\n",
    "    [13, 14, 15, 16]\n",
    "]\n",
    "iterator = SubmatrixIterator(matrix, 2)\n",
    "for submatrix in iterator:\n",
    "    print(submatrix)"
   ]
  },
  {
   "cell_type": "markdown",
   "id": "f1ad35a0",
   "metadata": {
    "ExecuteTime": {
     "end_time": "2024-11-03T14:20:40.010708Z",
     "start_time": "2024-11-03T14:20:39.997523Z"
    }
   },
   "source": [
    "# Построчного чтение всех файлов в директории"
   ]
  },
  {
   "cell_type": "markdown",
   "id": "ca37eddc",
   "metadata": {},
   "source": [
    "Реализуйте класс-итератор  `RecursiveFileLineIteratorNoHidden`, который принимает на вход путь к директории и рекурсивно проходит по всем файлам, включая файлы во вложенных директориях. Итератор должен возвращать строки из каждого файла построчно, игнорируя файлы и директории, названия которых начинаются с точки (.), т.е. скрытые файлы и папки.\n",
    "\n",
    "**Условия:**\n",
    "1.\tИтератор должен проходить по всем файлам в указанной директории и всех её поддиректориях, кроме тех, что начинаются с точки (.).\n",
    "2.\tИтератор должен возвращать строки из каждого файла поочерёдно, построчно.\n",
    "3.\tПоддерживаются только текстовые файлы.\n",
    "4.\tПосле завершения чтения всех файлов итератор должен завершить работу, поднимая StopIteration.\n",
    "5.\tОбработайте ситуацию, если файл не может быть открыт (например, из-за ошибок доступа).\n",
    "\n",
    "**Пример использования:**\n",
    "\n",
    "```python\n",
    "iterator = RecursiveFileLineIteratorNoHidden(\"./test\")\n",
    "for line in iterator:\n",
    "    print(line)\n",
    "    \n",
    "# Example 1\n",
    "# Example 2\n",
    "# Example 3\n",
    "# Example 4\n",
    "# Subfolder Example 1\n",
    "# Subfolder Example 2\n",
    "# Subfolder Example 3\n",
    "# Subfolder Example 4    \n",
    "```\n",
    "\n",
    "Для выполнения задания потребуются несколько методов из модуля os, которые позволяют работать с файловой системой в Python. Давайте подробно рассмотрим их.\n",
    "\n",
    "\n",
    "`os.walk(top, topdown=True, onerror=None, followlinks=False)` — это генератор, который рекурсивно обходит директории и поддиректории, начиная с указанного пути top. На каждом шаге возвращается кортеж, содержащий текущую директорию, список поддиректорий и список файлов.\n",
    "\n",
    "Возвращаемые значения:\n",
    "* root: Текущая директория, в которой находимся в данный момент обхода.\n",
    "* dirs: Список поддиректорий в текущей root директории.\n",
    "* files: Список файлов в текущей root директории.\n",
    "\n",
    "`os.path.join(path, *paths)` объединяет один или несколько компонентов пути, возвращая корректный путь, соответствующий операционной системе. Это полезно для построения путей к файлам и директориям в кросс-платформенном формате.\n",
    "\n",
    "```python\n",
    "root = \"/path/to/directory\"\n",
    "file_name = \"example.txt\"\n",
    "full_path = os.path.join(root, file_name)\n",
    "print(full_path)  # Вывод: \"/path/to/directory/example.txt\"\n",
    "```\n",
    "\n",
    "`os.path.isfile(path)` проверяет, является ли указанный путь файлом. Возвращает True, если path указывает на файл, и False, если это директория или объект другого типа.\n",
    "\n",
    "```python\n",
    "file_path = \"/path/to/file.txt\"\n",
    "if os.path.isfile(file_path):\n",
    "    print(\"Это файл.\")\n",
    "else:\n",
    "    print(\"Это не файл.\")\n",
    "```\n",
    "\n",
    "`os.path.basename(path)` возвращает базовое имя файла или директории из пути. Это полезно, если нужно получить только имя файла или папки, без остальных компонентов пути.\n",
    "\n",
    "```python\n",
    "file_path = \"/path/to/file.txt\"\n",
    "print(os.path.basename(file_path))  # Вывод: \"file.txt\"\n",
    "```\n",
    "\n",
    "`os.path.isdir(path)` проверяет, является ли указанный путь директорией. Возвращает True, если path указывает на директорию, и False, если это файл или объект другого типа.\n",
    "\n",
    "```python\n",
    "dir_path = \"/path/to/directory\"\n",
    "if os.path.isdir(dir_path):\n",
    "    print(\"Это директория.\")\n",
    "else:\n",
    "    print(\"Это не директория.\")\n",
    "```"
   ]
  },
  {
   "cell_type": "code",
   "execution_count": 43,
   "id": "cccfe52c",
   "metadata": {
    "ExecuteTime": {
     "end_time": "2024-11-03T14:45:18.219426Z",
     "start_time": "2024-11-03T14:45:18.206870Z"
    }
   },
   "outputs": [],
   "source": [
    "import os\n",
    "\n",
    "class RecursiveFileLineIteratorNoHidden:\n",
    "    def __init__(self, directory):\n",
    "        self.directory = directory\n",
    "        self.file_iterators = []\n",
    "        self.current_file_iterator = None\n",
    "        self._initialize_iterators()\n",
    "\n",
    "    def _initialize_iterators(self):\n",
    "        for root, dirs, files in os.walk(self.directory):\n",
    "            dirs[:] = [d for d in dirs if not d.startswith('.')]\n",
    "            for file in files:\n",
    "                if not file.startswith('.'):\n",
    "                    full_path = os.path.join(root, file)\n",
    "                    if os.path.isfile(full_path):\n",
    "                        try:\n",
    "                            self.file_iterators.append(open(full_path, 'r', encoding='utf-8'))\n",
    "                        except (IOError, OSError):\n",
    "                            continue\n",
    "\n",
    "    def __iter__(self):\n",
    "        return self\n",
    "\n",
    "    def __next__(self):\n",
    "        while True:\n",
    "            if self.current_file_iterator is None or self.current_file_iterator is None:\n",
    "                if not self.file_iterators:\n",
    "                    raise StopIteration\n",
    "                self.current_file_iterator = self.file_iterators.pop(0)\n",
    "\n",
    "            try:\n",
    "                return next(self.current_file_iterator)\n",
    "            except StopIteration:\n",
    "                self.current_file_iterator.close()\n",
    "                self.current_file_iterator = None"
   ]
  },
  {
   "cell_type": "code",
   "execution_count": 44,
   "id": "30355672",
   "metadata": {},
   "outputs": [
    {
     "name": "stdout",
     "output_type": "stream",
     "text": [
      "Example 1\n",
      "\n",
      "Example 2\n",
      "\n",
      "Example 3\n",
      "\n",
      "Example 4\n",
      "Subfolder Example 1\n",
      "\n",
      "Subfolder Example 2\n",
      "\n",
      "Subfolder Example 3\n",
      "\n",
      "Subfolder Example 4\n"
     ]
    }
   ],
   "source": [
    "iterator = RecursiveFileLineIteratorNoHidden(\"./test\")\n",
    "for line in iterator:\n",
    "    print(line)"
   ]
  }
 ],
 "metadata": {
  "kernelspec": {
   "display_name": "Python 3",
   "language": "python",
   "name": "python3"
  },
  "language_info": {
   "codemirror_mode": {
    "name": "ipython",
    "version": 3
   },
   "file_extension": ".py",
   "mimetype": "text/x-python",
   "name": "python",
   "nbconvert_exporter": "python",
   "pygments_lexer": "ipython3",
   "version": "3.12.7"
  }
 },
 "nbformat": 4,
 "nbformat_minor": 5
}
