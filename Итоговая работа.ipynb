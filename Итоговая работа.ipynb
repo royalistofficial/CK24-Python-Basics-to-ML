{
 "cells": [
  {
   "cell_type": "markdown",
   "id": "4feb6bdc",
   "metadata": {},
   "source": [
    "# Конторальная работа"
   ]
  },
  {
   "cell_type": "markdown",
   "id": "4b6631bd",
   "metadata": {},
   "source": [
    "## Порядок сдачи"
   ]
  },
  {
   "cell_type": "markdown",
   "id": "bee4fcc0",
   "metadata": {},
   "source": [
    "Каждое задание оценивается в 10 баллов. Код нужно отправить напрямую в СДО как текст. Перед сдачей проверьте код, напишите тесты. Не забудьте про `PEP8`, например, с помощью `flake8`.\n",
    "\n",
    "Дедлайн - 9 декабря 10:00"
   ]
  },
  {
   "cell_type": "markdown",
   "id": "d777f71d",
   "metadata": {
    "ExecuteTime": {
     "end_time": "2024-11-03T13:46:28.412754Z",
     "start_time": "2024-11-03T13:46:28.400723Z"
    }
   },
   "source": [
    "## Разворот строки"
   ]
  },
  {
   "cell_type": "markdown",
   "id": "922a2c11",
   "metadata": {
    "ExecuteTime": {
     "end_time": "2024-11-29T05:14:51.098358Z",
     "start_time": "2024-11-29T05:14:51.077875Z"
    }
   },
   "source": [
    "Напишите функцию, которая принимает строку в качестве входного параметра и возвращает новую строку, в которой символы исходной строки расположены в обратном порядке."
   ]
  },
  {
   "cell_type": "code",
   "execution_count": 144,
   "id": "806e728c",
   "metadata": {
    "ExecuteTime": {
     "end_time": "2024-11-29T05:16:11.730919Z",
     "start_time": "2024-11-29T05:16:11.713903Z"
    }
   },
   "outputs": [
    {
     "name": "stdout",
     "output_type": "stream",
     "text": [
      "olleh\n",
      "тевирП\n",
      "54321\n"
     ]
    }
   ],
   "source": [
    "def reverse_string(s):\n",
    "    return s[::-1]\n",
    "\n",
    "assert reverse_string(\"hello\") == \"olleh\", \"Тест 1 не пройден\"\n",
    "assert reverse_string(\"Привет\") == \"тевирП\", \"Тест 2 не пройден\"\n",
    "assert reverse_string(\"12345\") == \"54321\", \"Тест 3 не пройден\"\n",
    "assert reverse_string(\"\") == \"\", \"Тест 4 не пройден\"\n",
    "assert reverse_string(\"a\") == \"a\", \"Тест 5 не пройден\"\n",
    "assert reverse_string(\"racecar\") == \"racecar\", \"Тест 6 не пройден\"\n",
    "\n",
    "print(reverse_string(\"hello\"))    # Вывод: \"olleh\"\n",
    "print(reverse_string(\"Привет\"))   # Вывод: \"тевирП\"\n",
    "print(reverse_string(\"12345\"))    # Вывод: \"54321\""
   ]
  },
  {
   "cell_type": "markdown",
   "id": "4e5cb30c",
   "metadata": {},
   "source": [
    "# Ромб"
   ]
  },
  {
   "cell_type": "markdown",
   "id": "5cfea6f0",
   "metadata": {},
   "source": [
    "Напишите функцию, которая выводит на экран ромб, составленный из символов звёздочек `*`. Размер ромба определяется введённым пользователем нечётным числом n, которое задаёт ширину (и высоту) ромба в его самой широкой части."
   ]
  },
  {
   "cell_type": "code",
   "execution_count": 145,
   "id": "4b19f7e2",
   "metadata": {},
   "outputs": [
    {
     "name": "stdout",
     "output_type": "stream",
     "text": [
      "      *\n",
      "     ***\n",
      "    *****\n",
      "   *******\n",
      "  *********\n",
      " ***********\n",
      "*************\n",
      " ***********\n",
      "  *********\n",
      "   *******\n",
      "    *****\n",
      "     ***\n",
      "      *\n",
      "None\n"
     ]
    }
   ],
   "source": [
    "def draw(n):\n",
    "    for i in range(n):\n",
    "        spaces = ' ' * (n - i - 1)\n",
    "        stars = '*' * (2 * i + 1)\n",
    "        print(spaces + stars)\n",
    "    \n",
    "    for i in range(n - 1):\n",
    "        spaces = ' ' * (i + 1)\n",
    "        stars = '*' * (2 * (n - i - 2) + 1)\n",
    "        print(spaces + stars)\n",
    "\n",
    "print(draw(7))\n",
    "#   *\n",
    "#  ***\n",
    "# *****\n",
    "#*******\n",
    "# *****\n",
    "#  ***\n",
    "#   *"
   ]
  },
  {
   "cell_type": "markdown",
   "id": "a86c90c8",
   "metadata": {},
   "source": [
    "# НОД"
   ]
  },
  {
   "cell_type": "markdown",
   "id": "3f967b9f",
   "metadata": {
    "ExecuteTime": {
     "end_time": "2024-11-29T05:21:08.316284Z",
     "start_time": "2024-11-29T05:21:08.286749Z"
    }
   },
   "source": [
    "Напишите функцию, которая вычисляет наибольший общий делитель (НОД) двух целых чисел."
   ]
  },
  {
   "cell_type": "code",
   "execution_count": 146,
   "id": "de608275",
   "metadata": {},
   "outputs": [
    {
     "name": "stdout",
     "output_type": "stream",
     "text": [
      "6\n",
      "25\n",
      "1\n"
     ]
    }
   ],
   "source": [
    "def gcd(a, b):\n",
    "    while b:\n",
    "        a, b = b, a % b\n",
    "    return a\n",
    "\n",
    "assert gcd(48, 18) == 6, \"Тест 1 не пройден\"\n",
    "assert gcd(100, 25) == 25, \"Тест 2 не пройден\"\n",
    "assert gcd(17, 13) == 1, \"Тест 3 не пройден\"\n",
    "assert gcd(0, 5) == 5, \"Тест 4 не пройден\" \n",
    "assert gcd(5, 0) == 5, \"Тест 5 не пройден\"  \n",
    "assert gcd(0, 0) == 0, \"Тест 6 не пройден\"\n",
    "\n",
    "print(gcd(48, 18))   # Вывод: 6\n",
    "print(gcd(100, 25))  # Вывод: 25\n",
    "print(gcd(17, 13))   # Вывод: 1"
   ]
  },
  {
   "cell_type": "markdown",
   "id": "49641d4f",
   "metadata": {
    "ExecuteTime": {
     "end_time": "2024-11-29T05:22:49.681923Z",
     "start_time": "2024-11-29T05:22:49.657297Z"
    }
   },
   "source": [
    "# Система счисления"
   ]
  },
  {
   "cell_type": "markdown",
   "id": "82e1a3cf",
   "metadata": {},
   "source": [
    "Напишите функцию, которая принимает строковое представление числа в произвольной системе (макс. 36) счисления и его основание, и возвращает это число в десятичной системе счисления."
   ]
  },
  {
   "cell_type": "code",
   "execution_count": 147,
   "id": "0365d57b",
   "metadata": {
    "ExecuteTime": {
     "end_time": "2024-11-29T05:23:50.498455Z",
     "start_time": "2024-11-29T05:23:50.480951Z"
    }
   },
   "outputs": [
    {
     "name": "stdout",
     "output_type": "stream",
     "text": [
      "10\n",
      "26\n",
      "83\n",
      "35\n"
     ]
    }
   ],
   "source": [
    "def convert_to_decimal(number_str, base):\n",
    "    return int(number_str, base)\n",
    "\n",
    "assert convert_to_decimal(\"1010\", 2) == 10, \"Тест 1 не пройден\"\n",
    "assert convert_to_decimal(\"1A\", 16) == 26, \"Тест 2 не пройден\"\n",
    "assert convert_to_decimal(\"123\", 8) == 83, \"Тест 3 не пройден\"\n",
    "assert convert_to_decimal(\"Z\", 36) == 35, \"Тест 4 не пройден\"\n",
    "assert convert_to_decimal(\"10\", 10) == 10, \"Тест 5 не пройден\" \n",
    "assert convert_to_decimal(\"FF\", 16) == 255, \"Тест 6 не пройден\"  \n",
    "assert convert_to_decimal(\"7B\", 16) == 123, \"Тест 7 не пройден\" \n",
    "\n",
    "print(convert_to_decimal(\"1010\", 2))    # Вывод: 10\n",
    "print(convert_to_decimal(\"1A\", 16))     # Вывод: 26\n",
    "print(convert_to_decimal(\"123\", 8))     # Вывод: 83\n",
    "print(convert_to_decimal(\"Z\", 36))      # Вывод: 35"
   ]
  },
  {
   "cell_type": "markdown",
   "id": "be9f88ed",
   "metadata": {
    "ExecuteTime": {
     "end_time": "2024-11-29T05:24:07.620180Z",
     "start_time": "2024-11-29T05:24:07.594765Z"
    }
   },
   "source": [
    "# Палиндром"
   ]
  },
  {
   "cell_type": "markdown",
   "id": "f0a84a85",
   "metadata": {},
   "source": [
    "Напишите функцию, которая проверяет, является ли заданная строка палиндромом."
   ]
  },
  {
   "cell_type": "code",
   "execution_count": 148,
   "id": "70581d0a",
   "metadata": {
    "ExecuteTime": {
     "end_time": "2024-11-29T05:25:32.462861Z",
     "start_time": "2024-11-29T05:25:32.440252Z"
    }
   },
   "outputs": [
    {
     "name": "stdout",
     "output_type": "stream",
     "text": [
      "True\n",
      "True\n",
      "False\n"
     ]
    }
   ],
   "source": [
    "def is_palindrome(s):\n",
    "    return s == s[::-1]\n",
    "\n",
    "assert is_palindrome(\"мадам\") == True, \"Тест 1 не пройден\"\n",
    "assert is_palindrome(\"топот\") == True, \"Тест 2 не пройден\"\n",
    "assert is_palindrome(\"привет\") == False, \"Тест 3 не пройден\"\n",
    "assert is_palindrome(\"12321\") == True, \"Тест 5 не пройден\" \n",
    "assert is_palindrome(\"12345\") == False, \"Тест 6 не пройден\" \n",
    "assert is_palindrome(\"\") == True, \"Тест 7 не пройден\"\n",
    "\n",
    "print(is_palindrome(\"мадам\"))                  # Вывод: True\n",
    "print(is_palindrome(\"топот\"))                  # Вывод: True\n",
    "print(is_palindrome(\"привет\"))                 # Вывод: False"
   ]
  },
  {
   "cell_type": "markdown",
   "id": "71e9e2d5",
   "metadata": {},
   "source": [
    "# k порядковая статистика"
   ]
  },
  {
   "cell_type": "markdown",
   "id": "6684874d",
   "metadata": {},
   "source": [
    "Напишите функцию, которая принимает массив чисел и целое число $k$, и вычисляет количество элементов в массиве, которые больше, чем элемент, находящийся на позиции $k$ в упорядоченном по возрастанию массиве (т.е. больше, чем $k$-я порядковая статистика)."
   ]
  },
  {
   "cell_type": "code",
   "execution_count": 149,
   "id": "44ed558c",
   "metadata": {},
   "outputs": [
    {
     "name": "stdout",
     "output_type": "stream",
     "text": [
      "2\n"
     ]
    }
   ],
   "source": [
    "def count_greater_than_kth(arr, k):\n",
    "    if not arr:\n",
    "        return 0\n",
    "    sort_arr = sorted(arr)\n",
    "    i = k\n",
    "    while i < len(sort_arr) and sort_arr[i] == sort_arr[k-1]:\n",
    "        i += 1\n",
    "    return len(sort_arr) - i\n",
    "\n",
    "\n",
    "assert count_greater_than_kth([5, 3, 8, 6, 2], 3) == 2, \"Тест 1 не пройден\"  \n",
    "assert count_greater_than_kth([1, 2, 3, 4, 5], 2) == 3, \"Тест 2 не пройден\"  \n",
    "assert count_greater_than_kth([10, 20, 30, 40, 50], 1) == 4, \"Тест 3 не пройден\" \n",
    "assert count_greater_than_kth([5, 5, 5, 5, 5], 3) == 0, \"Тест 4 не пройден\" \n",
    "assert count_greater_than_kth([1, 2, 3, 4, 5], 5) == 0, \"Тест 5 не пройден\" \n",
    "assert count_greater_than_kth([], 1) == 0, \"Тест 6 не пройден\"\n",
    "\n",
    "arr = [5, 3, 8, 6, 2]\n",
    "k = 3\n",
    "result = count_greater_than_kth(arr, k)\n",
    "print(result)  # Вывод: 2"
   ]
  },
  {
   "cell_type": "markdown",
   "id": "77efd0dc",
   "metadata": {},
   "source": [
    "# Уникальные подстроки"
   ]
  },
  {
   "cell_type": "markdown",
   "id": "46fef851",
   "metadata": {},
   "source": [
    "Напишите функцию, которая принимает строку и целое число k, и подсчитывает количество уникальных подстрок длины k в этом тексте."
   ]
  },
  {
   "cell_type": "code",
   "execution_count": 150,
   "id": "424e65b3",
   "metadata": {},
   "outputs": [
    {
     "name": "stdout",
     "output_type": "stream",
     "text": [
      "3\n"
     ]
    }
   ],
   "source": [
    "def count_unique_substrings(text, k):\n",
    "    substrings_set = set()\n",
    "    for i in range(len(text)-k+1):\n",
    "        substrings_set.add(text[i:i+k])\n",
    "    return len(substrings_set)\n",
    "\n",
    "assert count_unique_substrings(\"abcabc\", 3) == 3, \"Тест 1 не пройден\"  # \"abc\", \"bca\", \"cab\"\n",
    "assert count_unique_substrings(\"aaaaa\", 1) == 1, \"Тест 2 не пройден\"  # \"a\"\n",
    "assert count_unique_substrings(\"hello\", 2) == 4, \"Тест 3 не пройден\"  # \"he\", \"el\", \"ll\", \"lo\"\n",
    "assert count_unique_substrings(\"abcdef\", 3) == 4, \"Тест 4 не пройден\"  # \"abc\", \"bcd\", \"cde\", \"def\"\n",
    "assert count_unique_substrings(\"abcabc\", 4) == 3, \"Тест 5 не пройден\"  # \"abca\", \"bcab\", \"cabc\"\n",
    "assert count_unique_substrings(\"\", 1) == 0, \"Тест 6 не пройден\"  # Пустая строка\n",
    "assert count_unique_substrings(\"abc\", 4) == 0, \"Тест 7 не пройден\"  # k больше длины строки\n",
    "\n",
    "text = \"abcabc\"\n",
    "k = 3\n",
    "result = count_unique_substrings(text, k)\n",
    "print(result)  # Вывод: 3"
   ]
  },
  {
   "cell_type": "markdown",
   "id": "cf18ac36",
   "metadata": {},
   "source": [
    "# Минимум"
   ]
  },
  {
   "cell_type": "markdown",
   "id": "9877ee9c",
   "metadata": {},
   "source": [
    "Напишите функцию, которая для заданного целого числа N находит такие целые положительные числа $a, b, c$, что произведение $a * b * c = N$, и сумма $a + b + c$ минимальна."
   ]
  },
  {
   "cell_type": "code",
   "execution_count": 151,
   "id": "d9d979e2",
   "metadata": {},
   "outputs": [
    {
     "name": "stdout",
     "output_type": "stream",
     "text": [
      "(2, 2, 3)\n",
      "(3, 3, 3)\n",
      "(1, 1, 7)\n"
     ]
    }
   ],
   "source": [
    "def minimum(n):\n",
    "    def helper(n):\n",
    "        min_sum = float('inf')\n",
    "        result = (None, None)\n",
    "        for i in range(1, int(n**0.5) + 1):\n",
    "            if n % i == 0:\n",
    "                if i + n // i < min_sum:\n",
    "                    min_sum = i + n // i\n",
    "                    result = (i, n // i)\n",
    "        return min_sum, result\n",
    "    \n",
    "    min_sum_3 = float('inf')\n",
    "    result = (None, None, None)\n",
    "    for i in range(1, int(n**0.5) + 1):\n",
    "        if n % i == 0:\n",
    "            min_sum_2, (k2, k3) = helper(n // i)\n",
    "            if i + min_sum_2 < min_sum_3:\n",
    "                min_sum_3 = i + min_sum_2\n",
    "                result = (i, k2, k3)\n",
    "\n",
    "    return result\n",
    "\n",
    "assert minimum(12) == (2, 2, 3), \"Тест 1 не пройден\" \n",
    "assert minimum(27) == (3, 3, 3), \"Тест 2 не пройден\" \n",
    "assert minimum(7) == (1, 1, 7), \"Тест 3 не пройден\" \n",
    "assert minimum(1) == (1, 1, 1), \"Тест 4 не пройден\"  \n",
    "assert minimum(100) == (4, 5, 5), \"Тест 5 не пройден\"\n",
    "\n",
    "\n",
    "print(minimum(12))                  # Вывод: 2, 2, 3\n",
    "print(minimum(27))                  # Вывод: 3, 3, 3\n",
    "print(minimum(7))                   # Вывод: 1, 1, 7"
   ]
  },
  {
   "cell_type": "markdown",
   "id": "9e5b32c1",
   "metadata": {
    "ExecuteTime": {
     "end_time": "2024-11-29T05:39:16.335011Z",
     "start_time": "2024-11-29T05:39:16.321409Z"
    }
   },
   "source": [
    "# Определитель"
   ]
  },
  {
   "cell_type": "markdown",
   "id": "1458eff3",
   "metadata": {
    "ExecuteTime": {
     "end_time": "2024-11-29T05:39:34.497125Z",
     "start_time": "2024-11-29T05:39:34.474266Z"
    }
   },
   "source": [
    "Напишите функцию, которая вычисляет определитель заданной квадратной матрицы."
   ]
  },
  {
   "cell_type": "code",
   "execution_count": 152,
   "id": "40491c23",
   "metadata": {},
   "outputs": [
    {
     "name": "stdout",
     "output_type": "stream",
     "text": [
      "-2\n"
     ]
    }
   ],
   "source": [
    "def create_submatrix(matrix, c):\n",
    "    submatrix = []\n",
    "    for row_index in range(1, len(matrix)): \n",
    "        row = []\n",
    "        for col_index in range(len(matrix[row_index])):\n",
    "            if col_index != c: \n",
    "                row.append(matrix[row_index][col_index])\n",
    "        submatrix.append(row)\n",
    "    return submatrix\n",
    "\n",
    "def determinant(matrix):\n",
    "    if len(matrix) == 0 or len(matrix) != len(matrix[0]):\n",
    "        raise ValueError(\"Матрица должна быть квадратной\")\n",
    "    \n",
    "    if len(matrix) == 1:\n",
    "        return matrix[0][0]\n",
    "\n",
    "    det = 0\n",
    "    for c in range(len(matrix)):\n",
    "        submatrix = create_submatrix(matrix, c)\n",
    "        det += ((-1) ** c) * matrix[0][c] * determinant(submatrix)\n",
    "\n",
    "    return det\n",
    "\n",
    "\n",
    "assert determinant([[1, 2], [3, 4]]) == -2, \"Тест 1 не пройден\" \n",
    "assert determinant([[5]]) == 5, \"Тест 2 не пройден\" \n",
    "assert determinant([[1, 2], [2, 1]]) == -3, \"Тест 3 не пройден\" \n",
    "assert determinant([[1, 0, 0], [0, 1, 0], [0, 0, 1]]) == 1, \"Тест 4 не пройден\" \n",
    "assert determinant([[2, 3], [1, 4]]) == 5, \"Тест 5 не пройден\"\n",
    "assert determinant([[1, 2, 3], [4, 5, 6], [7, 8, 9]]) == 0, \"Тест 6 не пройден\"\n",
    "\n",
    "matrix = [\n",
    "    [1, 2],\n",
    "    [3, 4]\n",
    "]\n",
    "result = determinant(matrix)\n",
    "print(result)  # Вывод: -2"
   ]
  },
  {
   "cell_type": "markdown",
   "id": "c9983f43",
   "metadata": {},
   "source": [
    "# Скобочная последовательность"
   ]
  },
  {
   "cell_type": "markdown",
   "id": "e776102b",
   "metadata": {},
   "source": [
    "Напишите функцию, которая проверяет правильность скобочной последовательности в заданной строке. Последовательность считается правильной, если все открывающиеся скобки корректно закрываются соответствующими закрывающими скобками в правильном порядке."
   ]
  },
  {
   "cell_type": "code",
   "execution_count": 153,
   "id": "0afd220e",
   "metadata": {},
   "outputs": [
    {
     "name": "stdout",
     "output_type": "stream",
     "text": [
      "True\n"
     ]
    }
   ],
   "source": [
    "def is_valid_sequence(s):\n",
    "        i = 1\n",
    "        counter = 1\n",
    "        while i < len(s):\n",
    "            if s[i] == s[0]:\n",
    "                counter += 1\n",
    "            elif s[0] == '(' and s[i] == ')' or s[0] == '[' and s[i] == ']' or s[0] == '{' and s[i] == '}':\n",
    "                counter -= 1\n",
    "                if counter == 0:\n",
    "                    if is_valid_sequence(s[1:i]):\n",
    "                        s = s[i+1:]\n",
    "                        i = 0\n",
    "                        counter = 1\n",
    "                    else:\n",
    "                        return False\n",
    "\n",
    "            i += 1\n",
    "        if s == \"\":\n",
    "            return True\n",
    "        return False\n",
    "\n",
    "\n",
    "assert is_valid_sequence(\"({[]})\") == True, \"Тест 1 не пройден\"  \n",
    "assert is_valid_sequence(\"()\") == True, \"Тест 2 не пройден\"      \n",
    "assert is_valid_sequence(\"([])\") == True, \"Тест 3 не пройден\"   \n",
    "assert is_valid_sequence(\"{[()]}\") == True, \"Тест 4 не пройден\"  \n",
    "assert is_valid_sequence(\"{[(])}\") == False, \"Тест 5 не пройден\"  \n",
    "assert is_valid_sequence(\"((()))\") == True, \"Тест 6 не пройден\"   \n",
    "assert is_valid_sequence(\")(\") == False, \"Тест 7 не пройден\"     \n",
    "assert is_valid_sequence(\"\") == True, \"Тест 8 не пройден\"      \n",
    "\n",
    "s = \"({[]})\"\n",
    "result = is_valid_sequence(s)\n",
    "print(result)  # Вывод: True"
   ]
  }
 ],
 "metadata": {
  "kernelspec": {
   "display_name": "Python 3",
   "language": "python",
   "name": "python3"
  },
  "language_info": {
   "codemirror_mode": {
    "name": "ipython",
    "version": 3
   },
   "file_extension": ".py",
   "mimetype": "text/x-python",
   "name": "python",
   "nbconvert_exporter": "python",
   "pygments_lexer": "ipython3",
   "version": "3.12.7"
  }
 },
 "nbformat": 4,
 "nbformat_minor": 5
}
